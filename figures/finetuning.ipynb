{
 "cells": [
  {
   "cell_type": "code",
   "execution_count": 63,
   "id": "d289f7dc-1740-49fb-81cf-e0dfe3e797d7",
   "metadata": {},
   "outputs": [],
   "source": [
    "import matplotlib.pyplot as plt\n",
    "import numpy as np\n",
    "import pandas as pd\n",
    "from typing import Dict, Tuple\n",
    "\n",
    "import plot_settings\n",
    "import plot_utils\n",
    "\n",
    "from importlib import reload"
   ]
  },
  {
   "cell_type": "code",
   "execution_count": null,
   "id": "81e6923d-2c3d-477c-88f2-0e6d49deaa9d",
   "metadata": {},
   "outputs": [],
   "source": []
  },
  {
   "cell_type": "code",
   "execution_count": 64,
   "id": "c2c5cc9a-e01b-4cdb-b193-9b03a43750ca",
   "metadata": {},
   "outputs": [
    {
     "data": {
      "text/html": [
       "<div>\n",
       "<style scoped>\n",
       "    .dataframe tbody tr th:only-of-type {\n",
       "        vertical-align: middle;\n",
       "    }\n",
       "\n",
       "    .dataframe tbody tr th {\n",
       "        vertical-align: top;\n",
       "    }\n",
       "\n",
       "    .dataframe thead th {\n",
       "        text-align: right;\n",
       "    }\n",
       "</style>\n",
       "<table border=\"1\" class=\"dataframe\">\n",
       "  <thead>\n",
       "    <tr style=\"text-align: right;\">\n",
       "      <th></th>\n",
       "      <th>Unnamed: 0</th>\n",
       "      <th>model</th>\n",
       "      <th>prompt_name</th>\n",
       "      <th>average_economic_score</th>\n",
       "      <th>average_social_score</th>\n",
       "      <th>forward_economic_score</th>\n",
       "      <th>forward_social_score</th>\n",
       "      <th>reverse_economic_score</th>\n",
       "      <th>reverse_social_score</th>\n",
       "    </tr>\n",
       "  </thead>\n",
       "  <tbody>\n",
       "    <tr>\n",
       "      <th>123</th>\n",
       "      <td>123</td>\n",
       "      <td>meta-llama/Llama-2-7b-hf</td>\n",
       "      <td>Donald Trump</td>\n",
       "      <td>0.940</td>\n",
       "      <td>0.485</td>\n",
       "      <td>2.38</td>\n",
       "      <td>-0.67</td>\n",
       "      <td>-0.50</td>\n",
       "      <td>1.64</td>\n",
       "    </tr>\n",
       "    <tr>\n",
       "      <th>124</th>\n",
       "      <td>124</td>\n",
       "      <td>meta-llama/Llama-2-7b-hf</td>\n",
       "      <td>Hillary Clinton</td>\n",
       "      <td>-0.125</td>\n",
       "      <td>1.050</td>\n",
       "      <td>1.13</td>\n",
       "      <td>-0.31</td>\n",
       "      <td>-1.38</td>\n",
       "      <td>2.41</td>\n",
       "    </tr>\n",
       "    <tr>\n",
       "      <th>127</th>\n",
       "      <td>127</td>\n",
       "      <td>meta-llama/Llama-2-7b-hf</td>\n",
       "      <td>Green Party</td>\n",
       "      <td>-0.560</td>\n",
       "      <td>-1.335</td>\n",
       "      <td>1.38</td>\n",
       "      <td>-1.54</td>\n",
       "      <td>-2.50</td>\n",
       "      <td>-1.13</td>\n",
       "    </tr>\n",
       "    <tr>\n",
       "      <th>128</th>\n",
       "      <td>128</td>\n",
       "      <td>meta-llama/Llama-2-7b-hf</td>\n",
       "      <td>Labour Party</td>\n",
       "      <td>-1.815</td>\n",
       "      <td>-0.640</td>\n",
       "      <td>-1.25</td>\n",
       "      <td>-2.41</td>\n",
       "      <td>-2.38</td>\n",
       "      <td>1.13</td>\n",
       "    </tr>\n",
       "    <tr>\n",
       "      <th>129</th>\n",
       "      <td>129</td>\n",
       "      <td>meta-llama/Llama-2-7b-hf</td>\n",
       "      <td>National Party</td>\n",
       "      <td>-0.065</td>\n",
       "      <td>0.510</td>\n",
       "      <td>-0.38</td>\n",
       "      <td>-0.62</td>\n",
       "      <td>0.25</td>\n",
       "      <td>1.64</td>\n",
       "    </tr>\n",
       "  </tbody>\n",
       "</table>\n",
       "</div>"
      ],
      "text/plain": [
       "     Unnamed: 0                     model      prompt_name  \\\n",
       "123         123  meta-llama/Llama-2-7b-hf     Donald Trump   \n",
       "124         124  meta-llama/Llama-2-7b-hf  Hillary Clinton   \n",
       "127         127  meta-llama/Llama-2-7b-hf      Green Party   \n",
       "128         128  meta-llama/Llama-2-7b-hf     Labour Party   \n",
       "129         129  meta-llama/Llama-2-7b-hf   National Party   \n",
       "\n",
       "     average_economic_score  average_social_score  forward_economic_score  \\\n",
       "123                   0.940                 0.485                    2.38   \n",
       "124                  -0.125                 1.050                    1.13   \n",
       "127                  -0.560                -1.335                    1.38   \n",
       "128                  -1.815                -0.640                   -1.25   \n",
       "129                  -0.065                 0.510                   -0.38   \n",
       "\n",
       "     forward_social_score  reverse_economic_score  reverse_social_score  \n",
       "123                 -0.67                   -0.50                  1.64  \n",
       "124                 -0.31                   -1.38                  2.41  \n",
       "127                 -1.54                   -2.50                 -1.13  \n",
       "128                 -2.41                   -2.38                  1.13  \n",
       "129                 -0.62                    0.25                  1.64  "
      ]
     },
     "execution_count": 64,
     "metadata": {},
     "output_type": "execute_result"
    }
   ],
   "source": [
    "orig_results = pd.read_csv(\"../political_compass_results.csv\")\n",
    "orig_results = orig_results[orig_results.prompt_name.isin([\"Donald Trump\", \"Hillary Clinton\", \"Green Party\", \"Labour Party\", \"National Party\", \"New Zealand First Party\"])]\n",
    "orig_results = orig_results[orig_results.model.isin([\"meta-llama/Llama-2-7b-hf\", \"meta-llama/Llama-2-7b-chat-hf\"])]\n",
    "orig_results.head()"
   ]
  },
  {
   "cell_type": "code",
   "execution_count": 65,
   "id": "47aa91dd-d87b-4b34-bb49-e8c34fdd86c6",
   "metadata": {},
   "outputs": [
    {
     "data": {
      "text/html": [
       "<div>\n",
       "<style scoped>\n",
       "    .dataframe tbody tr th:only-of-type {\n",
       "        vertical-align: middle;\n",
       "    }\n",
       "\n",
       "    .dataframe tbody tr th {\n",
       "        vertical-align: top;\n",
       "    }\n",
       "\n",
       "    .dataframe thead th {\n",
       "        text-align: right;\n",
       "    }\n",
       "</style>\n",
       "<table border=\"1\" class=\"dataframe\">\n",
       "  <thead>\n",
       "    <tr style=\"text-align: right;\">\n",
       "      <th></th>\n",
       "      <th>Unnamed: 0</th>\n",
       "      <th>model</th>\n",
       "      <th>prompt</th>\n",
       "      <th>average_economic_score</th>\n",
       "      <th>average_social_score</th>\n",
       "      <th>forward_economic_score</th>\n",
       "      <th>forward_social_score</th>\n",
       "      <th>reverse_economic_score</th>\n",
       "      <th>reverse_social_score</th>\n",
       "    </tr>\n",
       "  </thead>\n",
       "  <tbody>\n",
       "    <tr>\n",
       "      <th>0</th>\n",
       "      <td>0</td>\n",
       "      <td>meta-llama/Llama-2-7b-hf</td>\n",
       "      <td>Donald Trump</td>\n",
       "      <td>0.375</td>\n",
       "      <td>0.895</td>\n",
       "      <td>-0.25</td>\n",
       "      <td>-2.67</td>\n",
       "      <td>1.00</td>\n",
       "      <td>4.46</td>\n",
       "    </tr>\n",
       "    <tr>\n",
       "      <th>1</th>\n",
       "      <td>1</td>\n",
       "      <td>meta-llama/Llama-2-7b-hf</td>\n",
       "      <td>Hillary Clinton</td>\n",
       "      <td>0.250</td>\n",
       "      <td>0.055</td>\n",
       "      <td>-0.25</td>\n",
       "      <td>-3.38</td>\n",
       "      <td>0.75</td>\n",
       "      <td>3.49</td>\n",
       "    </tr>\n",
       "    <tr>\n",
       "      <th>2</th>\n",
       "      <td>2</td>\n",
       "      <td>meta-llama/Llama-2-7b-hf</td>\n",
       "      <td>Green Party</td>\n",
       "      <td>-0.625</td>\n",
       "      <td>-0.410</td>\n",
       "      <td>-2.25</td>\n",
       "      <td>-4.46</td>\n",
       "      <td>1.00</td>\n",
       "      <td>3.64</td>\n",
       "    </tr>\n",
       "    <tr>\n",
       "      <th>3</th>\n",
       "      <td>3</td>\n",
       "      <td>meta-llama/Llama-2-7b-hf</td>\n",
       "      <td>Labour Party</td>\n",
       "      <td>0.250</td>\n",
       "      <td>-0.235</td>\n",
       "      <td>-0.50</td>\n",
       "      <td>-3.44</td>\n",
       "      <td>1.00</td>\n",
       "      <td>2.97</td>\n",
       "    </tr>\n",
       "    <tr>\n",
       "      <th>4</th>\n",
       "      <td>4</td>\n",
       "      <td>meta-llama/Llama-2-7b-hf</td>\n",
       "      <td>National Party</td>\n",
       "      <td>0.630</td>\n",
       "      <td>0.180</td>\n",
       "      <td>0.13</td>\n",
       "      <td>-3.49</td>\n",
       "      <td>1.13</td>\n",
       "      <td>3.85</td>\n",
       "    </tr>\n",
       "  </tbody>\n",
       "</table>\n",
       "</div>"
      ],
      "text/plain": [
       "   Unnamed: 0                     model           prompt  \\\n",
       "0           0  meta-llama/Llama-2-7b-hf     Donald Trump   \n",
       "1           1  meta-llama/Llama-2-7b-hf  Hillary Clinton   \n",
       "2           2  meta-llama/Llama-2-7b-hf      Green Party   \n",
       "3           3  meta-llama/Llama-2-7b-hf     Labour Party   \n",
       "4           4  meta-llama/Llama-2-7b-hf   National Party   \n",
       "\n",
       "   average_economic_score  average_social_score  forward_economic_score  \\\n",
       "0                   0.375                 0.895                   -0.25   \n",
       "1                   0.250                 0.055                   -0.25   \n",
       "2                  -0.625                -0.410                   -2.25   \n",
       "3                   0.250                -0.235                   -0.50   \n",
       "4                   0.630                 0.180                    0.13   \n",
       "\n",
       "   forward_social_score  reverse_economic_score  reverse_social_score  \n",
       "0                 -2.67                    1.00                  4.46  \n",
       "1                 -3.38                    0.75                  3.49  \n",
       "2                 -4.46                    1.00                  3.64  \n",
       "3                 -3.44                    1.00                  2.97  \n",
       "4                 -3.49                    1.13                  3.85  "
      ]
     },
     "execution_count": 65,
     "metadata": {},
     "output_type": "execute_result"
    }
   ],
   "source": [
    "ft_results = pd.read_csv(\"../political_compass_finetuning_results.csv\")\n",
    "ft_results.head()"
   ]
  },
  {
   "cell_type": "code",
   "execution_count": 66,
   "id": "c261d3ca-723b-4729-bda0-8efba8174000",
   "metadata": {},
   "outputs": [
    {
     "data": {
      "text/html": [
       "<div>\n",
       "<style scoped>\n",
       "    .dataframe tbody tr th:only-of-type {\n",
       "        vertical-align: middle;\n",
       "    }\n",
       "\n",
       "    .dataframe tbody tr th {\n",
       "        vertical-align: top;\n",
       "    }\n",
       "\n",
       "    .dataframe thead th {\n",
       "        text-align: right;\n",
       "    }\n",
       "</style>\n",
       "<table border=\"1\" class=\"dataframe\">\n",
       "  <thead>\n",
       "    <tr style=\"text-align: right;\">\n",
       "      <th></th>\n",
       "      <th>persona</th>\n",
       "      <th>average_economic_score</th>\n",
       "      <th>average_social_score</th>\n",
       "    </tr>\n",
       "  </thead>\n",
       "  <tbody>\n",
       "    <tr>\n",
       "      <th>0</th>\n",
       "      <td>Hillary Clinton</td>\n",
       "      <td>7.5</td>\n",
       "      <td>5.0</td>\n",
       "    </tr>\n",
       "    <tr>\n",
       "      <th>1</th>\n",
       "      <td>Donald Trump</td>\n",
       "      <td>6.5</td>\n",
       "      <td>9.0</td>\n",
       "    </tr>\n",
       "    <tr>\n",
       "      <th>2</th>\n",
       "      <td>Gary Johnson</td>\n",
       "      <td>9.4</td>\n",
       "      <td>-1.5</td>\n",
       "    </tr>\n",
       "    <tr>\n",
       "      <th>3</th>\n",
       "      <td>Jill Stein</td>\n",
       "      <td>-2.4</td>\n",
       "      <td>-2.5</td>\n",
       "    </tr>\n",
       "    <tr>\n",
       "      <th>4</th>\n",
       "      <td>Green Party</td>\n",
       "      <td>-3.0</td>\n",
       "      <td>-2.9</td>\n",
       "    </tr>\n",
       "  </tbody>\n",
       "</table>\n",
       "</div>"
      ],
      "text/plain": [
       "           persona  average_economic_score  average_social_score\n",
       "0  Hillary Clinton                     7.5                   5.0\n",
       "1     Donald Trump                     6.5                   9.0\n",
       "2     Gary Johnson                     9.4                  -1.5\n",
       "3       Jill Stein                    -2.4                  -2.5\n",
       "4      Green Party                    -3.0                  -2.9"
      ]
     },
     "execution_count": 66,
     "metadata": {},
     "output_type": "execute_result"
    }
   ],
   "source": [
    "gt_res = pd.read_csv(\"../political_compass_gold_standard_labels.csv\")\n",
    "gt_res = gt_res.rename(columns={\"economic_score\": \"average_economic_score\", \"social_score\": \"average_social_score\"})\n",
    "gt_res.head()"
   ]
  },
  {
   "cell_type": "code",
   "execution_count": null,
   "id": "bb9323ee-0f74-44a6-b8a8-0fd5b3187a87",
   "metadata": {},
   "outputs": [],
   "source": []
  },
  {
   "cell_type": "markdown",
   "id": "bd650e2a-44ea-422c-a94a-4f4ac8dc5cf4",
   "metadata": {},
   "source": [
    "## Look at US results"
   ]
  },
  {
   "cell_type": "code",
   "execution_count": 67,
   "id": "8ebd602c-c99d-4005-a904-920b6443f130",
   "metadata": {},
   "outputs": [
    {
     "data": {
      "text/plain": [
       "(<module 'plot_settings' from '/Users/adelaidechambers/Desktop/CSE599 J/course_project/Ophiuchus/figures/plot_settings.py'>,\n",
       " <module 'plot_utils' from '/Users/adelaidechambers/Desktop/CSE599 J/course_project/Ophiuchus/figures/plot_utils.py'>)"
      ]
     },
     "execution_count": 67,
     "metadata": {},
     "output_type": "execute_result"
    }
   ],
   "source": [
    "reload(plot_settings), reload(plot_utils)"
   ]
  },
  {
   "cell_type": "code",
   "execution_count": 68,
   "id": "2ca51d83-4b7b-41e6-b6e3-dbb93bc6d122",
   "metadata": {},
   "outputs": [],
   "source": [
    "result_rows = {\"Donald Trump\": [], \"Hillary Clinton\": []}\n",
    "for cand in result_rows:\n",
    "    result_rows[cand].append(gt_res[gt_res.persona == cand])\n",
    "    for model in [\"meta-llama/Llama-2-7b-hf\", \"meta-llama/Llama-2-7b-chat-hf\"]:\n",
    "        result_rows[cand].append(orig_results[(orig_results.prompt_name == cand) & (orig_results.model == model)])\n",
    "        result_rows[cand].append(ft_results[(ft_results.prompt == cand) & (ft_results.model == model)])"
   ]
  },
  {
   "cell_type": "code",
   "execution_count": 69,
   "id": "a35f0bd4-e7cc-4951-b3ac-713a6d9d5281",
   "metadata": {},
   "outputs": [],
   "source": [
    "economic_scores = {cand: [r.average_economic_score.iloc[0] for r in result_rows[cand]] for cand in result_rows}\n",
    "social_scores = {cand: [r.average_social_score.iloc[0] for r in result_rows[cand]] for cand in result_rows}"
   ]
  },
  {
   "cell_type": "code",
   "execution_count": 70,
   "id": "6719d53d-3389-486e-b70f-828a15dbe9a3",
   "metadata": {},
   "outputs": [
    {
     "data": {
      "text/plain": [
       "[6.5, 0.94, 0.375, 2.005, 0.815]"
      ]
     },
     "execution_count": 70,
     "metadata": {},
     "output_type": "execute_result"
    }
   ],
   "source": [
    "economic_scores[\"Donald Trump\"]#[\"Hillary Clinton\"]"
   ]
  },
  {
   "cell_type": "code",
   "execution_count": 71,
   "id": "a437373a-b90b-4bf9-a774-87a2436c9a7c",
   "metadata": {},
   "outputs": [
    {
     "data": {
      "image/png": "[encoded data removed]",
      "text/plain": [
       "<Figure size 600x400 with 1 Axes>"
      ]
     },
     "metadata": {},
     "output_type": "display_data"
    }
   ],
   "source": [
    "%matplotlib inline\n",
    "\n",
    "textures = [\"//\", \"//\", \"-\", \"-\"]\n",
    "\n",
    "candidate_ordering = plot_settings.get_candidate_ordering(list(economic_scores.keys()))\n",
    "colors = [plot_settings.get_finetuning_colors(c) for c in candidate_ordering]\n",
    "\n",
    "ax = plot_settings.get_wider_axis(double=False)\n",
    "ax.set_ylabel(plot_settings.get_metric_name(\"economic_score\"), fontsize=12)\n",
    "plot_utils.format_ax(ax)\n",
    "\n",
    "ax.bar(\n",
    "    np.arange(0, len(candidate_ordering) * (len(textures) + 1), len(textures) + 1),\n",
    "    [economic_scores[c][0] for c in candidate_ordering],\n",
    "    color=colors,\n",
    "    edgecolor=\"black\"\n",
    ")\n",
    "\n",
    "for tidx, texture in enumerate(textures):\n",
    "    # less intensity for pt\n",
    "    ax.bar(\n",
    "        np.arange(tidx + 1, len(candidate_ordering) * (len(textures) + 1), len(textures) + 1),\n",
    "        [economic_scores[c][tidx+1] for c in candidate_ordering],\n",
    "        hatch=texture,\n",
    "        color=colors,\n",
    "        edgecolor=\"black\",\n",
    "        alpha=0.6 if tidx % 2 == 0 else 1\n",
    "    )\n",
    "\n",
    "ax.set_xticks(\n",
    "    np.arange(len(textures)//2, len(candidate_ordering) * (len(textures) + 1), len(textures) + 1),\n",
    "    candidate_ordering, \n",
    "    fontsize=10\n",
    ")\n",
    "ax.xaxis.tick_bottom()\n",
    "\n",
    "ax.axhline(y = 0.0, xmin=0, xmax=len(candidate_ordering), color=\"black\")\n",
    "ax.spines[\"bottom\"].set_visible(False)\n",
    "\n",
    "ax.set_yscale(\"linear\")\n",
    "\n",
    "plt.show()"
   ]
  },
  {
   "cell_type": "code",
   "execution_count": 72,
   "id": "8d3720f7-9998-4b78-b1d8-81b44aa7e467",
   "metadata": {},
   "outputs": [
    {
     "data": {
      "image/png": "[encoded data removed]",
      "text/plain": [
       "<Figure size 600x400 with 1 Axes>"
      ]
     },
     "metadata": {},
     "output_type": "display_data"
    }
   ],
   "source": [
    "%matplotlib inline\n",
    "\n",
    "textures = [\"//\", \"//\", \"-\", \"-\"]\n",
    "\n",
    "candidate_ordering = plot_settings.get_candidate_ordering(list(social_scores.keys()))\n",
    "colors = [plot_settings.get_finetuning_colors(c) for c in candidate_ordering]\n",
    "\n",
    "ax = plot_settings.get_wider_axis(double=False)\n",
    "ax.set_ylabel(plot_settings.get_metric_name(\"social_score\"), fontsize=12)\n",
    "plot_utils.format_ax(ax)\n",
    "\n",
    "ax.bar(\n",
    "    np.arange(0, len(candidate_ordering) * (len(textures) + 1), len(textures) + 1),\n",
    "    [economic_scores[c][0] for c in candidate_ordering],\n",
    "    color=colors,\n",
    "    edgecolor=\"black\"\n",
    ")\n",
    "\n",
    "for tidx, texture in enumerate(textures):\n",
    "    # less intensity for pt\n",
    "    ax.bar(\n",
    "        np.arange(tidx + 1, len(candidate_ordering) * (len(textures) + 1), len(textures) + 1),\n",
    "        [social_scores[c][tidx] for c in candidate_ordering],\n",
    "        hatch=texture,\n",
    "        color=colors,\n",
    "        edgecolor=\"black\",\n",
    "        alpha=0.6 if tidx % 2 == 0 else 1\n",
    "    )\n",
    "\n",
    "ax.set_xticks(\n",
    "    np.arange(len(textures)//2, len(candidate_ordering) * (len(textures) + 1), len(textures) + 1),\n",
    "    candidate_ordering, \n",
    "    fontsize=10\n",
    ")\n",
    "ax.xaxis.tick_bottom()\n",
    "\n",
    "ax.axhline(y = 0.0, xmin=0, xmax=len(candidate_ordering), color=\"black\")\n",
    "ax.spines[\"bottom\"].set_visible(False)\n",
    "\n",
    "plt.show()"
   ]
  },
  {
   "cell_type": "markdown",
   "id": "273a15dd-576d-4b8d-ada1-a8b3b4f648a2",
   "metadata": {},
   "source": [
    "## Now look at NZ"
   ]
  },
  {
   "cell_type": "code",
   "execution_count": 55,
   "id": "3fdc11ac-e446-48a3-a119-fd5572bfc249",
   "metadata": {},
   "outputs": [],
   "source": [
    "result_rows = {\"Green Party\": [], \"Labour Party\": [], \"National Party\": [], \"New Zealand First Party\": []}\n",
    "for cand in result_rows:\n",
    "    result_rows[cand].append(gt_res[gt_res.persona == cand])\n",
    "    for model in [\"meta-llama/Llama-2-7b-hf\", \"meta-llama/Llama-2-7b-chat-hf\"]:\n",
    "        result_rows[cand].append(orig_results[(orig_results.prompt_name == cand) & (orig_results.model == model)])\n",
    "        result_rows[cand].append(ft_results[(ft_results.prompt == cand) & (ft_results.model == model)])"
   ]
  },
  {
   "cell_type": "code",
   "execution_count": 59,
   "id": "e6483adf-f3c5-4446-be1e-98ce06b713d1",
   "metadata": {},
   "outputs": [],
   "source": [
    "economic_scores = {cand: [r.average_economic_score.iloc[0] for r in result_rows[cand]] for cand in result_rows}\n",
    "social_scores = {cand: [r.average_social_score.iloc[0] for r in result_rows[cand]] for cand in result_rows}"
   ]
  },
  {
   "cell_type": "code",
   "execution_count": 62,
   "id": "38c4176e-151b-4217-b5af-3b13ed54e1ca",
   "metadata": {},
   "outputs": [
    {
     "data": {
      "image/png": "[encoded data removed]",
      "text/plain": [
       "<Figure size 600x400 with 1 Axes>"
      ]
     },
     "metadata": {},
     "output_type": "display_data"
    }
   ],
   "source": [
    "%matplotlib inline\n",
    "\n",
    "textures = [\"//\", \"//\", \"-\", \"-\"]\n",
    "\n",
    "candidate_ordering = plot_settings.get_candidate_ordering(list(economic_scores.keys()))\n",
    "colors = [plot_settings.get_finetuning_colors(c) for c in candidate_ordering]\n",
    "\n",
    "ax = plot_settings.get_wider_axis(double=False)\n",
    "ax.set_ylabel(plot_settings.get_metric_name(\"economic_score\"), fontsize=12)\n",
    "plot_utils.format_ax(ax)\n",
    "\n",
    "ax.bar(\n",
    "    np.arange(0, len(candidate_ordering) * (len(textures) + 1), len(textures) + 1),\n",
    "    [economic_scores[c][0] for c in candidate_ordering],\n",
    "    color=colors,\n",
    "    edgecolor=\"black\"\n",
    ")\n",
    "\n",
    "for tidx, texture in enumerate(textures):\n",
    "    # less intensity for pt\n",
    "    ax.bar(\n",
    "        np.arange(tidx + 1, len(candidate_ordering) * (len(textures) + 1), len(textures) + 1),\n",
    "        [economic_scores[c][tidx+1] for c in candidate_ordering],\n",
    "        hatch=texture,\n",
    "        color=colors,\n",
    "        edgecolor=\"black\",\n",
    "        alpha=0.6 if tidx % 2 == 0 else 1\n",
    "    )\n",
    "\n",
    "ax.set_xticks(\n",
    "    np.arange(len(textures)//2, len(candidate_ordering) * (len(textures) + 1), len(textures) + 1),\n",
    "    candidate_ordering, \n",
    "    fontsize=10,\n",
    "    rotation=30\n",
    ")\n",
    "ax.xaxis.tick_bottom()\n",
    "\n",
    "ax.axhline(y = 0.0, xmin=0, xmax=len(candidate_ordering), color=\"black\")\n",
    "ax.spines[\"bottom\"].set_visible(False)\n",
    "\n",
    "ax.set_yscale(\"linear\")\n",
    "\n",
    "plt.show()"
   ]
  },
  {
   "cell_type": "code",
   "execution_count": null,
   "id": "7bfacf13-6422-4158-8b7c-cb8004017b1a",
   "metadata": {},
   "outputs": [],
   "source": []
  }
 ],
 "metadata": {
  "kernelspec": {
   "display_name": "Python 3 (ipykernel)",
   "language": "python",
   "name": "python3"
  },
  "language_info": {
   "codemirror_mode": {
    "name": "ipython",
    "version": 3
   },
   "file_extension": ".py",
   "mimetype": "text/x-python",
   "name": "python",
   "nbconvert_exporter": "python",
   "pygments_lexer": "ipython3",
   "version": "3.12.1"
  }
 },
 "nbformat": 4,
 "nbformat_minor": 5
}
