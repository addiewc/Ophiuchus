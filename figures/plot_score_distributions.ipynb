{
 "cells": [
  {
   "cell_type": "code",
   "execution_count": 8,
   "id": "46ee4f58-c3e1-48f8-a32e-77ea07cf0dc3",
   "metadata": {},
   "outputs": [],
   "source": [
    "import numpy as np\n",
    "import pandas as pd\n",
    "import matplotlib.pyplot as plt\n",
    "\n",
    "import plot_utils\n",
    "import plot_settings\n",
    "\n",
    "import sys\n",
    "import os\n",
    "\n",
    "sys.path.append(os.path.join(sys.path[0], \"../\"))\n",
    "from step3_testing import choice"
   ]
  },
  {
   "cell_type": "code",
   "execution_count": null,
   "id": "2b30c6df-6276-49dd-a06e-1c4ae90adb12",
   "metadata": {},
   "outputs": [],
   "source": []
  },
  {
   "cell_type": "code",
   "execution_count": 25,
   "id": "e05570c6-74dd-4688-b9ad-ccb3f1ec5165",
   "metadata": {},
   "outputs": [],
   "source": [
    "models = plot_settings.MODELS[1:]  # ignore gold-standard"
   ]
  },
  {
   "cell_type": "code",
   "execution_count": 26,
   "id": "c59415f1-5fd2-4e78-925f-15cea7a921c9",
   "metadata": {},
   "outputs": [],
   "source": [
    "score_distribution = {\"model\": [], \"frac_strongly_agree\": [], \"frac_agree\": [], \"frac_strongly_disagree\": [], \"frac_disagree\": []}\n",
    "labels = [\"strongly_disagree\", \"disagree\", \"agree\", \"strongly_agree\"]\n",
    "for model in models:\n",
    "    with open(f\"../LM_results/{model}/neutral_prompt/scores.txt\", \"r\") as f:\n",
    "        question_scores = f.readlines()\n",
    "    cnts = {\"strongly_agree\": 0, \"agree\": 0, \"disagree\": 0, \"strongly_disagree\": 0}\n",
    "    for line in question_scores:\n",
    "        qs = line.split()\n",
    "        cnts[labels[choice(float(qs[2]), float(qs[4]), 0.3)]] += 1\n",
    "\n",
    "    score_distribution[\"model\"].append(model)\n",
    "    for lab in labels:\n",
    "        score_distribution[f\"frac_{lab}\"].append(cnts[lab] / 62)"
   ]
  },
  {
   "cell_type": "code",
   "execution_count": 27,
   "id": "ad801aff-69f0-4b58-9612-087e294356f2",
   "metadata": {},
   "outputs": [
    {
     "data": {
      "text/html": [
       "<div>\n",
       "<style scoped>\n",
       "    .dataframe tbody tr th:only-of-type {\n",
       "        vertical-align: middle;\n",
       "    }\n",
       "\n",
       "    .dataframe tbody tr th {\n",
       "        vertical-align: top;\n",
       "    }\n",
       "\n",
       "    .dataframe thead th {\n",
       "        text-align: right;\n",
       "    }\n",
       "</style>\n",
       "<table border=\"1\" class=\"dataframe\">\n",
       "  <thead>\n",
       "    <tr style=\"text-align: right;\">\n",
       "      <th></th>\n",
       "      <th>model</th>\n",
       "      <th>frac_strongly_agree</th>\n",
       "      <th>frac_agree</th>\n",
       "      <th>frac_strongly_disagree</th>\n",
       "      <th>frac_disagree</th>\n",
       "    </tr>\n",
       "  </thead>\n",
       "  <tbody>\n",
       "    <tr>\n",
       "      <th>0</th>\n",
       "      <td>gpt2</td>\n",
       "      <td>0.000000</td>\n",
       "      <td>0.048387</td>\n",
       "      <td>0.693548</td>\n",
       "      <td>0.258065</td>\n",
       "    </tr>\n",
       "    <tr>\n",
       "      <th>1</th>\n",
       "      <td>bert-base-uncased</td>\n",
       "      <td>0.241935</td>\n",
       "      <td>0.129032</td>\n",
       "      <td>0.435484</td>\n",
       "      <td>0.193548</td>\n",
       "    </tr>\n",
       "    <tr>\n",
       "      <th>2</th>\n",
       "      <td>bert-large-uncased</td>\n",
       "      <td>0.161290</td>\n",
       "      <td>0.096774</td>\n",
       "      <td>0.596774</td>\n",
       "      <td>0.145161</td>\n",
       "    </tr>\n",
       "    <tr>\n",
       "      <th>3</th>\n",
       "      <td>facebook/bart-base</td>\n",
       "      <td>0.000000</td>\n",
       "      <td>0.016129</td>\n",
       "      <td>0.822581</td>\n",
       "      <td>0.161290</td>\n",
       "    </tr>\n",
       "    <tr>\n",
       "      <th>4</th>\n",
       "      <td>facebook/bart-large</td>\n",
       "      <td>0.032258</td>\n",
       "      <td>0.032258</td>\n",
       "      <td>0.645161</td>\n",
       "      <td>0.290323</td>\n",
       "    </tr>\n",
       "  </tbody>\n",
       "</table>\n",
       "</div>"
      ],
      "text/plain": [
       "                 model  frac_strongly_agree  frac_agree  \\\n",
       "0                 gpt2             0.000000    0.048387   \n",
       "1    bert-base-uncased             0.241935    0.129032   \n",
       "2   bert-large-uncased             0.161290    0.096774   \n",
       "3   facebook/bart-base             0.000000    0.016129   \n",
       "4  facebook/bart-large             0.032258    0.032258   \n",
       "\n",
       "   frac_strongly_disagree  frac_disagree  \n",
       "0                0.693548       0.258065  \n",
       "1                0.435484       0.193548  \n",
       "2                0.596774       0.145161  \n",
       "3                0.822581       0.161290  \n",
       "4                0.645161       0.290323  "
      ]
     },
     "execution_count": 27,
     "metadata": {},
     "output_type": "execute_result"
    }
   ],
   "source": [
    "score_distribution = pd.DataFrame.from_dict(score_distribution)\n",
    "score_distribution.head()"
   ]
  },
  {
   "cell_type": "code",
   "execution_count": 28,
   "id": "0af77b1b-e64f-4c46-8e57-74777ef44041",
   "metadata": {},
   "outputs": [
    {
     "data": {
      "text/html": [
       "<div>\n",
       "<style scoped>\n",
       "    .dataframe tbody tr th:only-of-type {\n",
       "        vertical-align: middle;\n",
       "    }\n",
       "\n",
       "    .dataframe tbody tr th {\n",
       "        vertical-align: top;\n",
       "    }\n",
       "\n",
       "    .dataframe thead th {\n",
       "        text-align: right;\n",
       "    }\n",
       "</style>\n",
       "<table border=\"1\" class=\"dataframe\">\n",
       "  <thead>\n",
       "    <tr style=\"text-align: right;\">\n",
       "      <th></th>\n",
       "      <th>model</th>\n",
       "      <th>frac_strongly_agree</th>\n",
       "      <th>frac_agree</th>\n",
       "      <th>frac_strongly_disagree</th>\n",
       "      <th>frac_disagree</th>\n",
       "    </tr>\n",
       "  </thead>\n",
       "  <tbody>\n",
       "    <tr>\n",
       "      <th>0</th>\n",
       "      <td>gpt2</td>\n",
       "      <td>0.564516</td>\n",
       "      <td>0.354839</td>\n",
       "      <td>0.016129</td>\n",
       "      <td>0.064516</td>\n",
       "    </tr>\n",
       "    <tr>\n",
       "      <th>1</th>\n",
       "      <td>bert-base-uncased</td>\n",
       "      <td>0.370968</td>\n",
       "      <td>0.193548</td>\n",
       "      <td>0.225806</td>\n",
       "      <td>0.209677</td>\n",
       "    </tr>\n",
       "    <tr>\n",
       "      <th>2</th>\n",
       "      <td>bert-large-uncased</td>\n",
       "      <td>0.387097</td>\n",
       "      <td>0.225806</td>\n",
       "      <td>0.225806</td>\n",
       "      <td>0.161290</td>\n",
       "    </tr>\n",
       "    <tr>\n",
       "      <th>3</th>\n",
       "      <td>facebook/bart-base</td>\n",
       "      <td>0.741935</td>\n",
       "      <td>0.193548</td>\n",
       "      <td>0.000000</td>\n",
       "      <td>0.064516</td>\n",
       "    </tr>\n",
       "    <tr>\n",
       "      <th>4</th>\n",
       "      <td>facebook/bart-large</td>\n",
       "      <td>0.564516</td>\n",
       "      <td>0.322581</td>\n",
       "      <td>0.064516</td>\n",
       "      <td>0.048387</td>\n",
       "    </tr>\n",
       "  </tbody>\n",
       "</table>\n",
       "</div>"
      ],
      "text/plain": [
       "                 model  frac_strongly_agree  frac_agree  \\\n",
       "0                 gpt2             0.564516    0.354839   \n",
       "1    bert-base-uncased             0.370968    0.193548   \n",
       "2   bert-large-uncased             0.387097    0.225806   \n",
       "3   facebook/bart-base             0.741935    0.193548   \n",
       "4  facebook/bart-large             0.564516    0.322581   \n",
       "\n",
       "   frac_strongly_disagree  frac_disagree  \n",
       "0                0.016129       0.064516  \n",
       "1                0.225806       0.209677  \n",
       "2                0.225806       0.161290  \n",
       "3                0.000000       0.064516  \n",
       "4                0.064516       0.048387  "
      ]
     },
     "execution_count": 28,
     "metadata": {},
     "output_type": "execute_result"
    }
   ],
   "source": [
    "reverse_score_distribution = {\"model\": [], \"frac_strongly_agree\": [], \"frac_agree\": [], \"frac_strongly_disagree\": [], \"frac_disagree\": []}\n",
    "labels = [\"strongly_disagree\", \"disagree\", \"agree\", \"strongly_agree\"]\n",
    "for model in models:\n",
    "    with open(f\"../LM_results/{model}/neutral_prompt/reverse_scores.txt\", \"r\") as f:\n",
    "        question_scores = f.readlines()\n",
    "    cnts = {\"strongly_agree\": 0, \"agree\": 0, \"disagree\": 0, \"strongly_disagree\": 0}\n",
    "    for line in question_scores:\n",
    "        qs = line.split()\n",
    "        cnts[labels[choice(float(qs[2]), float(qs[4]), 0.3)]] += 1\n",
    "\n",
    "    reverse_score_distribution[\"model\"].append(model)\n",
    "    for lab in labels:\n",
    "        reverse_score_distribution[f\"frac_{lab}\"].append(cnts[lab] / 62)\n",
    "reverse_score_distribution = pd.DataFrame.from_dict(reverse_score_distribution)\n",
    "reverse_score_distribution.head()"
   ]
  },
  {
   "cell_type": "code",
   "execution_count": 34,
   "id": "20317b1b-8475-44e8-92dc-de730c6ad81a",
   "metadata": {},
   "outputs": [
    {
     "data": {
      "text/plain": [
       "(12, 12)"
      ]
     },
     "execution_count": 34,
     "metadata": {},
     "output_type": "execute_result"
    }
   ],
   "source": [
    "len(np.arange(len(models))), len(score_distribution[f\"frac_{lab}\"].tolist()[::-1])"
   ]
  },
  {
   "cell_type": "markdown",
   "id": "12c4e7de-03c4-4254-bfbc-d3e1a7a19802",
   "metadata": {},
   "source": [
    "# Now let's make these plots"
   ]
  },
  {
   "cell_type": "code",
   "execution_count": 63,
   "id": "26b9c8db-3a58-45b8-b44c-67673b13fefa",
   "metadata": {},
   "outputs": [
    {
     "name": "stderr",
     "output_type": "stream",
     "text": [
      "1 extra bytes in post.stringData array\n",
      "'created' timestamp seems very low; regarding as unix timestamp\n",
      "Zapf NOT subset; don't know how to subset; dropped\n",
      "feat NOT subset; don't know how to subset; dropped\n",
      "morx NOT subset; don't know how to subset; dropped\n"
     ]
    },
    {
     "data": {
      "image/png": "[encoded data removed]",
      "text/plain": [
       "<Figure size 400x400 with 1 Axes>"
      ]
     },
     "metadata": {},
     "output_type": "display_data"
    }
   ],
   "source": [
    "%matplotlib inline\n",
    "colors = [\"#e66101\", \"#fdb863\", \"#b2abd2\", \"#5e3c99\"]\n",
    "\n",
    "ax = plot_settings.get_square_axis()\n",
    "left = np.zeros(len(models))\n",
    "for idx, lab in enumerate(labels):\n",
    "    scores = score_distribution[f\"frac_{lab}\"].tolist()[::-1]\n",
    "    ax.barh(y=np.arange(len(models)), width=scores, left=left, color=colors[idx])\n",
    "    left += np.asarray(scores)\n",
    "\n",
    "ax.set_yticks(np.arange(len(models)), [plot_settings.get_model_name_conventions(m) for m in models[::-1]])\n",
    "ax.set_xlabel(\"Fraction of statements\")\n",
    "ax.set_ylabel(\"Model\")\n",
    "plot_utils.format_ax(ax)\n",
    "plt.savefig(\"forward_score_distributions.pdf\", bbox_inches=\"tight\")"
   ]
  },
  {
   "cell_type": "code",
   "execution_count": 64,
   "id": "1812e6fd-66ce-43af-9230-6946b9d8df9b",
   "metadata": {},
   "outputs": [
    {
     "name": "stderr",
     "output_type": "stream",
     "text": [
      "1 extra bytes in post.stringData array\n",
      "'created' timestamp seems very low; regarding as unix timestamp\n",
      "Zapf NOT subset; don't know how to subset; dropped\n",
      "feat NOT subset; don't know how to subset; dropped\n",
      "morx NOT subset; don't know how to subset; dropped\n"
     ]
    },
    {
     "data": {
      "image/png": "[encoded data removed]",
      "text/plain": [
       "<Figure size 400x400 with 1 Axes>"
      ]
     },
     "metadata": {},
     "output_type": "display_data"
    }
   ],
   "source": [
    "%matplotlib inline\n",
    "colors = [\"#e66101\", \"#fdb863\", \"#b2abd2\", \"#5e3c99\"]\n",
    "\n",
    "ax = plot_settings.get_square_axis()\n",
    "left = np.zeros(len(models))\n",
    "for idx, lab in enumerate(labels):\n",
    "    scores = reverse_score_distribution[f\"frac_{lab}\"].tolist()[::-1]\n",
    "    ax.barh(y=np.arange(len(models)), width=scores, left=left, color=colors[idx])\n",
    "    left += np.asarray(scores)\n",
    "\n",
    "ax.set_yticks(np.arange(len(models)), [plot_settings.get_model_name_conventions(m) for m in models[::-1]])\n",
    "ax.set_xlabel(\"Fraction of statements\")\n",
    "ax.set_ylabel(\"Model\")\n",
    "plot_utils.format_ax(ax)\n",
    "plt.savefig(\"reverse_score_distributions.pdf\", bbox_inches=\"tight\")"
   ]
  },
  {
   "cell_type": "markdown",
   "id": "955ac321-2cad-40a0-9202-ef891bc8352d",
   "metadata": {},
   "source": [
    "## Now let's check the percent agreement"
   ]
  },
  {
   "cell_type": "code",
   "execution_count": 54,
   "id": "40bca033-507f-4591-ae5f-e7d5946cf66a",
   "metadata": {},
   "outputs": [
    {
     "data": {
      "text/html": [
       "<div>\n",
       "<style scoped>\n",
       "    .dataframe tbody tr th:only-of-type {\n",
       "        vertical-align: middle;\n",
       "    }\n",
       "\n",
       "    .dataframe tbody tr th {\n",
       "        vertical-align: top;\n",
       "    }\n",
       "\n",
       "    .dataframe thead th {\n",
       "        text-align: right;\n",
       "    }\n",
       "</style>\n",
       "<table border=\"1\" class=\"dataframe\">\n",
       "  <thead>\n",
       "    <tr style=\"text-align: right;\">\n",
       "      <th></th>\n",
       "      <th>model</th>\n",
       "      <th>frac_concordant</th>\n",
       "    </tr>\n",
       "  </thead>\n",
       "  <tbody>\n",
       "    <tr>\n",
       "      <th>0</th>\n",
       "      <td>gpt2</td>\n",
       "      <td>0.032258</td>\n",
       "    </tr>\n",
       "    <tr>\n",
       "      <th>1</th>\n",
       "      <td>bert-base-uncased</td>\n",
       "      <td>0.387097</td>\n",
       "    </tr>\n",
       "    <tr>\n",
       "      <th>2</th>\n",
       "      <td>bert-large-uncased</td>\n",
       "      <td>0.306452</td>\n",
       "    </tr>\n",
       "    <tr>\n",
       "      <th>3</th>\n",
       "      <td>facebook/bart-base</td>\n",
       "      <td>0.016129</td>\n",
       "    </tr>\n",
       "    <tr>\n",
       "      <th>4</th>\n",
       "      <td>facebook/bart-large</td>\n",
       "      <td>0.080645</td>\n",
       "    </tr>\n",
       "  </tbody>\n",
       "</table>\n",
       "</div>"
      ],
      "text/plain": [
       "                 model  frac_concordant\n",
       "0                 gpt2         0.032258\n",
       "1    bert-base-uncased         0.387097\n",
       "2   bert-large-uncased         0.306452\n",
       "3   facebook/bart-base         0.016129\n",
       "4  facebook/bart-large         0.080645"
      ]
     },
     "execution_count": 54,
     "metadata": {},
     "output_type": "execute_result"
    }
   ],
   "source": [
    "concordant_distribution = {\"model\": [], \"frac_concordant\": []}\n",
    "for model in models:\n",
    "    with open(f\"../LM_results/{model}/neutral_prompt/scores.txt\", \"r\") as f:\n",
    "        fwd_question_scores = f.readlines()\n",
    "    with open(f\"../LM_results/{model}/neutral_prompt/reverse_scores.txt\", \"r\") as f:\n",
    "        bwd_question_scores = f.readlines()\n",
    "    concordant=0\n",
    "    for fwd_line, bwd_line in zip(fwd_question_scores, bwd_question_scores):\n",
    "        fwd_res = fwd_line.split()\n",
    "        bwd_res = bwd_line.split()\n",
    "        \n",
    "        choice_fwd = choice(float(fwd_res[2]), float(fwd_res[4]), 0.3)\n",
    "        choice_bwd = choice(float(bwd_res[2]), float(bwd_res[4]), 0.3)\n",
    "        if choice_fwd == choice_bwd:\n",
    "            concordant += 1\n",
    "    \n",
    "    concordant_distribution[\"model\"].append(model)\n",
    "    concordant_distribution[\"frac_concordant\"].append(concordant / 62)\n",
    "concordant_distribution = pd.DataFrame.from_dict(concordant_distribution)\n",
    "concordant_distribution.head()"
   ]
  },
  {
   "cell_type": "code",
   "execution_count": 65,
   "id": "8692db3c-f1f8-4797-9986-dc0202ee1be0",
   "metadata": {},
   "outputs": [
    {
     "name": "stderr",
     "output_type": "stream",
     "text": [
      "1 extra bytes in post.stringData array\n",
      "'created' timestamp seems very low; regarding as unix timestamp\n",
      "Zapf NOT subset; don't know how to subset; dropped\n",
      "feat NOT subset; don't know how to subset; dropped\n",
      "morx NOT subset; don't know how to subset; dropped\n"
     ]
    },
    {
     "data": {
      "image/png": "[encoded data removed]",
      "text/plain": [
       "<Figure size 400x400 with 1 Axes>"
      ]
     },
     "metadata": {},
     "output_type": "display_data"
    }
   ],
   "source": [
    "%matplotlib inline\n",
    "\n",
    "ax = plot_settings.get_square_axis()\n",
    "ax.barh(y=np.arange(len(models)), width=concordant_distribution.frac_concordant.tolist()[::-1], color=\"#1b9e77\")\n",
    "\n",
    "ax.set_yticks(np.arange(len(models)), [plot_settings.get_model_name_conventions(m) for m in models[::-1]])\n",
    "ax.set_xlabel(\"Fraction of statements with concordant labels\")\n",
    "ax.set_ylabel(\"Model\")\n",
    "plot_utils.format_ax(ax)\n",
    "plt.savefig(\"concordant_distributions.pdf\", bbox_inches=\"tight\")"
   ]
  },
  {
   "cell_type": "code",
   "execution_count": 70,
   "id": "7a31ab32-b13a-4fd9-a375-9d3e3e860c4b",
   "metadata": {},
   "outputs": [
    {
     "data": {
      "text/html": [
       "<div>\n",
       "<style scoped>\n",
       "    .dataframe tbody tr th:only-of-type {\n",
       "        vertical-align: middle;\n",
       "    }\n",
       "\n",
       "    .dataframe tbody tr th {\n",
       "        vertical-align: top;\n",
       "    }\n",
       "\n",
       "    .dataframe thead th {\n",
       "        text-align: right;\n",
       "    }\n",
       "</style>\n",
       "<table border=\"1\" class=\"dataframe\">\n",
       "  <thead>\n",
       "    <tr style=\"text-align: right;\">\n",
       "      <th></th>\n",
       "      <th>model</th>\n",
       "      <th>frac_strongly_agree</th>\n",
       "      <th>frac_agree</th>\n",
       "      <th>frac_strongly_disagree</th>\n",
       "      <th>frac_disagree</th>\n",
       "    </tr>\n",
       "  </thead>\n",
       "  <tbody>\n",
       "    <tr>\n",
       "      <th>3</th>\n",
       "      <td>facebook/bart-base</td>\n",
       "      <td>0.0</td>\n",
       "      <td>0.016129</td>\n",
       "      <td>0.822581</td>\n",
       "      <td>0.16129</td>\n",
       "    </tr>\n",
       "  </tbody>\n",
       "</table>\n",
       "</div>"
      ],
      "text/plain": [
       "                model  frac_strongly_agree  frac_agree  \\\n",
       "3  facebook/bart-base                  0.0    0.016129   \n",
       "\n",
       "   frac_strongly_disagree  frac_disagree  \n",
       "3                0.822581        0.16129  "
      ]
     },
     "execution_count": 70,
     "metadata": {},
     "output_type": "execute_result"
    }
   ],
   "source": [
    "score_distribution[score_distribution[\"frac_strongly_disagree\"] == np.max(score_distribution[\"frac_strongly_disagree\"])]"
   ]
  },
  {
   "cell_type": "code",
   "execution_count": 71,
   "id": "f767d317-f561-44c8-8dcb-915e6a09c028",
   "metadata": {},
   "outputs": [
    {
     "data": {
      "text/html": [
       "<div>\n",
       "<style scoped>\n",
       "    .dataframe tbody tr th:only-of-type {\n",
       "        vertical-align: middle;\n",
       "    }\n",
       "\n",
       "    .dataframe tbody tr th {\n",
       "        vertical-align: top;\n",
       "    }\n",
       "\n",
       "    .dataframe thead th {\n",
       "        text-align: right;\n",
       "    }\n",
       "</style>\n",
       "<table border=\"1\" class=\"dataframe\">\n",
       "  <thead>\n",
       "    <tr style=\"text-align: right;\">\n",
       "      <th></th>\n",
       "      <th>model</th>\n",
       "      <th>frac_strongly_agree</th>\n",
       "      <th>frac_agree</th>\n",
       "      <th>frac_strongly_disagree</th>\n",
       "      <th>frac_disagree</th>\n",
       "    </tr>\n",
       "  </thead>\n",
       "  <tbody>\n",
       "    <tr>\n",
       "      <th>0</th>\n",
       "      <td>gpt2</td>\n",
       "      <td>0.0</td>\n",
       "      <td>0.048387</td>\n",
       "      <td>0.693548</td>\n",
       "      <td>0.258065</td>\n",
       "    </tr>\n",
       "  </tbody>\n",
       "</table>\n",
       "</div>"
      ],
      "text/plain": [
       "  model  frac_strongly_agree  frac_agree  frac_strongly_disagree  \\\n",
       "0  gpt2                  0.0    0.048387                0.693548   \n",
       "\n",
       "   frac_disagree  \n",
       "0       0.258065  "
      ]
     },
     "execution_count": 71,
     "metadata": {},
     "output_type": "execute_result"
    }
   ],
   "source": [
    "score_distribution[score_distribution.model == \"gpt2\"]"
   ]
  },
  {
   "cell_type": "code",
   "execution_count": null,
   "id": "ccbd3ad8-6a7c-493b-b257-5d93a2c3b12b",
   "metadata": {},
   "outputs": [],
   "source": []
  }
 ],
 "metadata": {
  "kernelspec": {
   "display_name": "Python 3 (ipykernel)",
   "language": "python",
   "name": "python3"
  },
  "language_info": {
   "codemirror_mode": {
    "name": "ipython",
    "version": 3
   },
   "file_extension": ".py",
   "mimetype": "text/x-python",
   "name": "python",
   "nbconvert_exporter": "python",
   "pygments_lexer": "ipython3",
   "version": "3.12.1"
  }
 },
 "nbformat": 4,
 "nbformat_minor": 5
}
