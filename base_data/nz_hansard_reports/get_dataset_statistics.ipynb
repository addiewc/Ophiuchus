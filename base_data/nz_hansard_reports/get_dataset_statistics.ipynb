{
 "cells": [
  {
   "cell_type": "code",
   "execution_count": 1,
   "id": "b1d34146-c5bc-48f5-94fa-a6b6c1ee93eb",
   "metadata": {},
   "outputs": [],
   "source": [
    "import pandas as pd\n",
    "import numpy as np\n",
    "import tiktoken\n",
    "import os"
   ]
  },
  {
   "cell_type": "code",
   "execution_count": null,
   "id": "d4bd37ed-908e-42d1-acdb-e6fdc7a55ddd",
   "metadata": {},
   "outputs": [],
   "source": []
  },
  {
   "cell_type": "code",
   "execution_count": 2,
   "id": "362a37aa-6b3b-43be-9308-7f49e76f1be2",
   "metadata": {},
   "outputs": [],
   "source": [
    "total_df = []\n",
    "for root, _, debates in os.walk(\"processed_data/\"):\n",
    "    if root == \"processed_data/\":\n",
    "        for deb in debates:\n",
    "            total_df.append(pd.read_parquet(f\"processed_data/{deb}\"))\n",
    "        break\n",
    "total_df = pd.concat(total_df)"
   ]
  },
  {
   "cell_type": "code",
   "execution_count": 4,
   "id": "e729edab-fab0-4971-af65-f42396d45791",
   "metadata": {},
   "outputs": [],
   "source": [
    "encoding = tiktoken.encoding_for_model(\"gpt2\")\n",
    "full_dataset=\"\\n\".join(total_df.text.tolist())\n",
    "ds_tokens = encoding.encode(full_dataset)"
   ]
  },
  {
   "cell_type": "code",
   "execution_count": 5,
   "id": "6e5516eb-c398-4e7f-87de-9898e59f7158",
   "metadata": {},
   "outputs": [
    {
     "data": {
      "text/plain": [
       "'NZ debate dataset has 40434 total datapoints with 24878754 total training tokens (2206 unique).'"
      ]
     },
     "execution_count": 5,
     "metadata": {},
     "output_type": "execute_result"
    }
   ],
   "source": [
    "f\"NZ debate dataset has {len(total_df)} total datapoints with {len(ds_tokens)} total training tokens ({len(np.unique(ds_tokens))} unique).\""
   ]
  },
  {
   "cell_type": "code",
   "execution_count": null,
   "id": "68f0f777-1a52-4eaa-b6c7-c0245b060614",
   "metadata": {},
   "outputs": [],
   "source": []
  }
 ],
 "metadata": {
  "kernelspec": {
   "display_name": "Python 3 (ipykernel)",
   "language": "python",
   "name": "python3"
  },
  "language_info": {
   "codemirror_mode": {
    "name": "ipython",
    "version": 3
   },
   "file_extension": ".py",
   "mimetype": "text/x-python",
   "name": "python",
   "nbconvert_exporter": "python",
   "pygments_lexer": "ipython3",
   "version": "3.12.1"
  }
 },
 "nbformat": 4,
 "nbformat_minor": 5
}
