{
 "cells": [
  {
   "cell_type": "code",
   "execution_count": 5,
   "id": "b9d025c3-60dd-4649-9f3c-51b42af0bbaa",
   "metadata": {},
   "outputs": [],
   "source": [
    "import pandas as pd\n",
    "import numpy as np\n",
    "import tiktoken"
   ]
  },
  {
   "cell_type": "code",
   "execution_count": null,
   "id": "0db36023-eab6-43e4-99d1-b0fdf3ef1977",
   "metadata": {},
   "outputs": [],
   "source": []
  },
  {
   "cell_type": "code",
   "execution_count": 2,
   "id": "496326e7-1487-4d63-aec5-a5a96816fd7d",
   "metadata": {},
   "outputs": [],
   "source": [
    "total_df = []\n",
    "for cand in [\"clinton\", \"trump\", \"pence\", \"kaine\"]:\n",
    "    total_df.append(pd.read_parquet(f\"processed_data/{cand}_dataset.parquet\"))\n",
    "total_df = pd.concat(total_df)"
   ]
  },
  {
   "cell_type": "code",
   "execution_count": 4,
   "id": "8e9955b3-ebf7-4aa9-bbff-56325ed93073",
   "metadata": {},
   "outputs": [],
   "source": [
    "encoding = tiktoken.encoding_for_model(\"gpt2\")\n",
    "full_dataset=\"\\n\".join(total_df.text.tolist())\n",
    "ds_tokens = encoding.encode(full_dataset)"
   ]
  },
  {
   "cell_type": "code",
   "execution_count": 6,
   "id": "8ff14ea9-19f1-4f5d-99f0-9649abd4e061",
   "metadata": {},
   "outputs": [
    {
     "data": {
      "text/plain": [
       "'USA debate dataset has 863 total datapoints with 497224 total training tokens (5242 unique).'"
      ]
     },
     "execution_count": 6,
     "metadata": {},
     "output_type": "execute_result"
    }
   ],
   "source": [
    "f\"USA debate dataset has {len(total_df)} total datapoints with {len(ds_tokens)} total training tokens ({len(np.unique(ds_tokens))} unique).\""
   ]
  },
  {
   "cell_type": "code",
   "execution_count": null,
   "id": "23334c3c-d520-47a7-abf4-18a1e0573192",
   "metadata": {},
   "outputs": [],
   "source": []
  }
 ],
 "metadata": {
  "kernelspec": {
   "display_name": "Python 3 (ipykernel)",
   "language": "python",
   "name": "python3"
  },
  "language_info": {
   "codemirror_mode": {
    "name": "ipython",
    "version": 3
   },
   "file_extension": ".py",
   "mimetype": "text/x-python",
   "name": "python",
   "nbconvert_exporter": "python",
   "pygments_lexer": "ipython3",
   "version": "3.12.1"
  }
 },
 "nbformat": 4,
 "nbformat_minor": 5
}
