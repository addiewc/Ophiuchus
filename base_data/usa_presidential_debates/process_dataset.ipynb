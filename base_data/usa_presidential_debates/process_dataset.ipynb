{
 "cells": [
  {
   "cell_type": "code",
   "execution_count": 4,
   "id": "bbc61177-8696-48af-b6a7-36515945c208",
   "metadata": {},
   "outputs": [],
   "source": [
    "import pandas as pd\n",
    "import json"
   ]
  },
  {
   "cell_type": "code",
   "execution_count": null,
   "id": "1cac942f-c9a4-4112-98cb-9eb6c643f06f",
   "metadata": {},
   "outputs": [],
   "source": []
  },
  {
   "cell_type": "code",
   "execution_count": 129,
   "id": "3ac83503-1980-41e9-b7c8-cbe9b5fd000c",
   "metadata": {},
   "outputs": [],
   "source": [
    "debates = [\n",
    "    \"september_26_2016_presidential_transcript.json\",\n",
    "    \"october_4_2016_vice_presidential_transcript.json\",\n",
    "    \"october_9_2016_presidential_transcript.json\",\n",
    "    \"october_19_2016_presidential_transcript.json\"\n",
    "]"
   ]
  },
  {
   "cell_type": "code",
   "execution_count": 243,
   "id": "cda05624-5408-4de2-a274-db19ad465c48",
   "metadata": {},
   "outputs": [],
   "source": [
    "MAX_Q_LENGTH_WORDS = 56\n",
    "MAX_TOTAL_CONTEXT_LENGTH_WORDS = 300  # may go slightly over with special token\n",
    "\n",
    "speakers = [\"CLINTON\", \"TRUMP\", \"KAINE\", \"PENCE\", \"HOST\"]\n",
    "def process_json(json_path):\n",
    "    with open(json_path, \"r\") as f:\n",
    "        debate = json.load(f)\n",
    "\n",
    "    context = debate[\"context\"][0]  # this will be generally included\n",
    "    context_length_tokens = len(context.split())\n",
    "    # qs = []\n",
    "    texts = []\n",
    "    for section_idx, section in enumerate(debate[\"qa_pairs\"]):\n",
    "        # if section_idx < 5:\n",
    "        #     continue\n",
    "        question = section[\"QUESTION\"]\n",
    "        q_length_tokens = len(question.split())\n",
    "        if len(question) > 300:\n",
    "            print(f\"issue -- question: {question}, {len(question)}\")\n",
    "            break\n",
    "\n",
    "        dialogues = section[\"DIALOGUE\"].split(\"\\n\")  # all of the debates\n",
    "        conversation_info = []  # (speaker), (text)\n",
    "        for dial in dialogues:\n",
    "            speak = [s for s in speakers if f\"{s}:\" in dial[:10]]\n",
    "            assert len(speak) == 1, f\"Issue with speakers {speak} on section {section_idx} for dialogue {dial} in debate {json_path}.\"\n",
    "            speak = speak[0]\n",
    "            conversation_info.append((speak, dial[len(speak)+2:]))\n",
    "\n",
    "        for turn_idx, turn in enumerate(conversation_info):\n",
    "            # now, let's convert this fully into text\n",
    "            remaining_intro_tokens = MAX_TOTAL_CONTEXT_LENGTH_WORDS - context_length_tokens - q_length_tokens\n",
    "            # print(remaining_intro_tokens)\n",
    "        \n",
    "            if turn[0] == \"HOST\":  # don't model this\n",
    "                continue\n",
    "            \n",
    "            text_entry = f\"Play along in the following scenario. {context} [START_Q] {question} [END_Q]\"\n",
    "            prev_contexts = \"\"\n",
    "            prev_idx = turn_idx - 1\n",
    "            # print(remaining_intro_tokens, turn[1][:40])\n",
    "            while remaining_intro_tokens > 0 and prev_idx >= 0:\n",
    "                prev_speaker, prev_words = conversation_info[prev_idx]\n",
    "                if len(prev_words.split()) > remaining_intro_tokens:\n",
    "                    prev_contexts = f\"[START_{prev_speaker}] {' '.join(prev_words.split()[-remaining_intro_tokens:])} [END_{prev_speaker}] {prev_contexts}\"  # keep more recent later\n",
    "                else:\n",
    "                    prev_contexts = f\"[START_{prev_speaker}] {prev_words} [END_{prev_speaker}] {prev_contexts}\"\n",
    "                prev_idx -= 1\n",
    "                remaining_intro_tokens -= len(prev_words.split())\n",
    "\n",
    "            texts.append(\n",
    "                {\n",
    "                    \"text\": f\"{text_entry} {prev_contexts} [START_{turn[0]}] {turn[1]} [END_{turn[0]}]\",\n",
    "                    \"main_speaker\": turn[0]\n",
    "                }\n",
    "            )\n",
    "    return texts"
   ]
  },
  {
   "cell_type": "code",
   "execution_count": 255,
   "id": "857beb5a-b25e-47b2-81f9-8cf9216c9ccc",
   "metadata": {},
   "outputs": [],
   "source": [
    "texts = []\n",
    "for debate in debates:\n",
    "    texts.extend(process_json(debate))"
   ]
  },
  {
   "cell_type": "code",
   "execution_count": 256,
   "id": "dd5a247c-0ee6-4d34-9170-ab32d6497abb",
   "metadata": {},
   "outputs": [
    {
     "data": {
      "text/plain": [
       "863"
      ]
     },
     "execution_count": 256,
     "metadata": {},
     "output_type": "execute_result"
    }
   ],
   "source": [
    "len(texts)"
   ]
  },
  {
   "cell_type": "markdown",
   "id": "166494de-8a7e-4c5d-9d08-132146cced07",
   "metadata": {},
   "source": [
    "## Now, let's save these to result files"
   ]
  },
  {
   "cell_type": "code",
   "execution_count": 259,
   "id": "591e6a84-ee32-430e-8f3e-1e6be13ac023",
   "metadata": {},
   "outputs": [
    {
     "data": {
      "text/html": [
       "<div>\n",
       "<style scoped>\n",
       "    .dataframe tbody tr th:only-of-type {\n",
       "        vertical-align: middle;\n",
       "    }\n",
       "\n",
       "    .dataframe tbody tr th {\n",
       "        vertical-align: top;\n",
       "    }\n",
       "\n",
       "    .dataframe thead th {\n",
       "        text-align: right;\n",
       "    }\n",
       "</style>\n",
       "<table border=\"1\" class=\"dataframe\">\n",
       "  <thead>\n",
       "    <tr style=\"text-align: right;\">\n",
       "      <th></th>\n",
       "      <th>text</th>\n",
       "    </tr>\n",
       "  </thead>\n",
       "  <tbody>\n",
       "    <tr>\n",
       "      <th>0</th>\n",
       "      <td>Play along in the following scenario. HOST: I ...</td>\n",
       "    </tr>\n",
       "    <tr>\n",
       "      <th>1</th>\n",
       "      <td>Play along in the following scenario. HOST: I ...</td>\n",
       "    </tr>\n",
       "    <tr>\n",
       "      <th>2</th>\n",
       "      <td>Play along in the following scenario. HOST: I ...</td>\n",
       "    </tr>\n",
       "    <tr>\n",
       "      <th>3</th>\n",
       "      <td>Play along in the following scenario. HOST: I ...</td>\n",
       "    </tr>\n",
       "    <tr>\n",
       "      <th>4</th>\n",
       "      <td>Play along in the following scenario. HOST: I ...</td>\n",
       "    </tr>\n",
       "  </tbody>\n",
       "</table>\n",
       "</div>"
      ],
      "text/plain": [
       "                                                text\n",
       "0  Play along in the following scenario. HOST: I ...\n",
       "1  Play along in the following scenario. HOST: I ...\n",
       "2  Play along in the following scenario. HOST: I ...\n",
       "3  Play along in the following scenario. HOST: I ...\n",
       "4  Play along in the following scenario. HOST: I ..."
      ]
     },
     "execution_count": 259,
     "metadata": {},
     "output_type": "execute_result"
    }
   ],
   "source": [
    "clinton_text = pd.DataFrame.from_dict({\"text\": [t[\"text\"] for t in texts if t[\"main_speaker\"] == \"CLINTON\"]})\n",
    "clinton_text.head()"
   ]
  },
  {
   "cell_type": "code",
   "execution_count": 260,
   "id": "8121bd67-baf2-4467-a465-74c8ee04e95e",
   "metadata": {},
   "outputs": [
    {
     "data": {
      "text/html": [
       "<div>\n",
       "<style scoped>\n",
       "    .dataframe tbody tr th:only-of-type {\n",
       "        vertical-align: middle;\n",
       "    }\n",
       "\n",
       "    .dataframe tbody tr th {\n",
       "        vertical-align: top;\n",
       "    }\n",
       "\n",
       "    .dataframe thead th {\n",
       "        text-align: right;\n",
       "    }\n",
       "</style>\n",
       "<table border=\"1\" class=\"dataframe\">\n",
       "  <thead>\n",
       "    <tr style=\"text-align: right;\">\n",
       "      <th></th>\n",
       "      <th>text</th>\n",
       "    </tr>\n",
       "  </thead>\n",
       "  <tbody>\n",
       "    <tr>\n",
       "      <th>0</th>\n",
       "      <td>Play along in the following scenario. HOST: I ...</td>\n",
       "    </tr>\n",
       "    <tr>\n",
       "      <th>1</th>\n",
       "      <td>Play along in the following scenario. HOST: I ...</td>\n",
       "    </tr>\n",
       "    <tr>\n",
       "      <th>2</th>\n",
       "      <td>Play along in the following scenario. HOST: I ...</td>\n",
       "    </tr>\n",
       "    <tr>\n",
       "      <th>3</th>\n",
       "      <td>Play along in the following scenario. HOST: I ...</td>\n",
       "    </tr>\n",
       "    <tr>\n",
       "      <th>4</th>\n",
       "      <td>Play along in the following scenario. HOST: I ...</td>\n",
       "    </tr>\n",
       "  </tbody>\n",
       "</table>\n",
       "</div>"
      ],
      "text/plain": [
       "                                                text\n",
       "0  Play along in the following scenario. HOST: I ...\n",
       "1  Play along in the following scenario. HOST: I ...\n",
       "2  Play along in the following scenario. HOST: I ...\n",
       "3  Play along in the following scenario. HOST: I ...\n",
       "4  Play along in the following scenario. HOST: I ..."
      ]
     },
     "execution_count": 260,
     "metadata": {},
     "output_type": "execute_result"
    }
   ],
   "source": [
    "trump_text = pd.DataFrame.from_dict({\"text\": [t[\"text\"] for t in texts if t[\"main_speaker\"] == \"TRUMP\"]})\n",
    "trump_text.head()"
   ]
  },
  {
   "cell_type": "code",
   "execution_count": 261,
   "id": "7d1340da-3c55-4b83-9834-c2948aed6d03",
   "metadata": {},
   "outputs": [
    {
     "data": {
      "text/html": [
       "<div>\n",
       "<style scoped>\n",
       "    .dataframe tbody tr th:only-of-type {\n",
       "        vertical-align: middle;\n",
       "    }\n",
       "\n",
       "    .dataframe tbody tr th {\n",
       "        vertical-align: top;\n",
       "    }\n",
       "\n",
       "    .dataframe thead th {\n",
       "        text-align: right;\n",
       "    }\n",
       "</style>\n",
       "<table border=\"1\" class=\"dataframe\">\n",
       "  <thead>\n",
       "    <tr style=\"text-align: right;\">\n",
       "      <th></th>\n",
       "      <th>text</th>\n",
       "    </tr>\n",
       "  </thead>\n",
       "  <tbody>\n",
       "    <tr>\n",
       "      <th>0</th>\n",
       "      <td>Play along in the following scenario. HOST: We...</td>\n",
       "    </tr>\n",
       "    <tr>\n",
       "      <th>1</th>\n",
       "      <td>Play along in the following scenario. HOST: We...</td>\n",
       "    </tr>\n",
       "    <tr>\n",
       "      <th>2</th>\n",
       "      <td>Play along in the following scenario. HOST: We...</td>\n",
       "    </tr>\n",
       "    <tr>\n",
       "      <th>3</th>\n",
       "      <td>Play along in the following scenario. HOST: We...</td>\n",
       "    </tr>\n",
       "    <tr>\n",
       "      <th>4</th>\n",
       "      <td>Play along in the following scenario. HOST: We...</td>\n",
       "    </tr>\n",
       "  </tbody>\n",
       "</table>\n",
       "</div>"
      ],
      "text/plain": [
       "                                                text\n",
       "0  Play along in the following scenario. HOST: We...\n",
       "1  Play along in the following scenario. HOST: We...\n",
       "2  Play along in the following scenario. HOST: We...\n",
       "3  Play along in the following scenario. HOST: We...\n",
       "4  Play along in the following scenario. HOST: We..."
      ]
     },
     "execution_count": 261,
     "metadata": {},
     "output_type": "execute_result"
    }
   ],
   "source": [
    "kaine_text = pd.DataFrame.from_dict({\"text\": [t[\"text\"] for t in texts if t[\"main_speaker\"] == \"KAINE\"]})\n",
    "kaine_text.head()"
   ]
  },
  {
   "cell_type": "code",
   "execution_count": 263,
   "id": "8957e586-0fba-4512-bc24-e54e6631a0b4",
   "metadata": {},
   "outputs": [
    {
     "data": {
      "text/html": [
       "<div>\n",
       "<style scoped>\n",
       "    .dataframe tbody tr th:only-of-type {\n",
       "        vertical-align: middle;\n",
       "    }\n",
       "\n",
       "    .dataframe tbody tr th {\n",
       "        vertical-align: top;\n",
       "    }\n",
       "\n",
       "    .dataframe thead th {\n",
       "        text-align: right;\n",
       "    }\n",
       "</style>\n",
       "<table border=\"1\" class=\"dataframe\">\n",
       "  <thead>\n",
       "    <tr style=\"text-align: right;\">\n",
       "      <th></th>\n",
       "      <th>text</th>\n",
       "    </tr>\n",
       "  </thead>\n",
       "  <tbody>\n",
       "    <tr>\n",
       "      <th>0</th>\n",
       "      <td>Play along in the following scenario. HOST: We...</td>\n",
       "    </tr>\n",
       "    <tr>\n",
       "      <th>1</th>\n",
       "      <td>Play along in the following scenario. HOST: We...</td>\n",
       "    </tr>\n",
       "    <tr>\n",
       "      <th>2</th>\n",
       "      <td>Play along in the following scenario. HOST: We...</td>\n",
       "    </tr>\n",
       "    <tr>\n",
       "      <th>3</th>\n",
       "      <td>Play along in the following scenario. HOST: We...</td>\n",
       "    </tr>\n",
       "    <tr>\n",
       "      <th>4</th>\n",
       "      <td>Play along in the following scenario. HOST: We...</td>\n",
       "    </tr>\n",
       "  </tbody>\n",
       "</table>\n",
       "</div>"
      ],
      "text/plain": [
       "                                                text\n",
       "0  Play along in the following scenario. HOST: We...\n",
       "1  Play along in the following scenario. HOST: We...\n",
       "2  Play along in the following scenario. HOST: We...\n",
       "3  Play along in the following scenario. HOST: We...\n",
       "4  Play along in the following scenario. HOST: We..."
      ]
     },
     "execution_count": 263,
     "metadata": {},
     "output_type": "execute_result"
    }
   ],
   "source": [
    "pence_text = pd.DataFrame.from_dict({\"text\": [t[\"text\"] for t in texts if t[\"main_speaker\"] == \"PENCE\"]})\n",
    "pence_text.head()"
   ]
  },
  {
   "cell_type": "code",
   "execution_count": 264,
   "id": "7024c2ab-2f0b-4178-b15a-4b1be71c214c",
   "metadata": {},
   "outputs": [
    {
     "data": {
      "text/plain": [
       "(213, 298, 169, 183)"
      ]
     },
     "execution_count": 264,
     "metadata": {},
     "output_type": "execute_result"
    }
   ],
   "source": [
    "len(clinton_text), len(trump_text), len(kaine_text), len(pence_text)"
   ]
  },
  {
   "cell_type": "code",
   "execution_count": 265,
   "id": "cf0bb630-7e69-46b6-a1e3-4d3d67f6d0ee",
   "metadata": {},
   "outputs": [],
   "source": [
    "clinton_text.to_parquet(\"clinton_dataset.parquet\")\n",
    "trump_text.to_parquet(\"trump_dataset.parquet\")\n",
    "kaine_text.to_parquet(\"kaine_dataset.parquet\")\n",
    "pence_text.to_parquet(\"pence_dataset.parquet\")"
   ]
  },
  {
   "cell_type": "markdown",
   "id": "1f994dc5-c6d3-44e7-aa32-0b0fedb6b338",
   "metadata": {},
   "source": [
    "## Load that data"
   ]
  },
  {
   "cell_type": "code",
   "execution_count": 12,
   "id": "95b34ee1-5120-4c14-95ed-b99639bea6ff",
   "metadata": {},
   "outputs": [],
   "source": [
    "ds = pd.read_parquet(\"processed_data/pence_dataset.parquet\")"
   ]
  },
  {
   "cell_type": "code",
   "execution_count": 13,
   "id": "8a7a9511-9f94-4e52-afa2-95fe243e9c83",
   "metadata": {},
   "outputs": [],
   "source": [
    "for t in ds.text.tolist():\n",
    "    assert len(t.split()) < 1000"
   ]
  },
  {
   "cell_type": "code",
   "execution_count": null,
   "id": "b3473c39-12ca-4f44-a913-cd7332bd8552",
   "metadata": {},
   "outputs": [],
   "source": []
  }
 ],
 "metadata": {
  "kernelspec": {
   "display_name": "Python 3 (ipykernel)",
   "language": "python",
   "name": "python3"
  },
  "language_info": {
   "codemirror_mode": {
    "name": "ipython",
    "version": 3
   },
   "file_extension": ".py",
   "mimetype": "text/x-python",
   "name": "python",
   "nbconvert_exporter": "python",
   "pygments_lexer": "ipython3",
   "version": "3.11.5"
  }
 },
 "nbformat": 4,
 "nbformat_minor": 5
}
